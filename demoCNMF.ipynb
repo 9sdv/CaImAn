{
 "cells": [
  {
   "cell_type": "code",
   "execution_count": null,
   "metadata": {
    "collapsed": false
   },
   "outputs": [],
   "source": [
    "try:\n",
    "    %load_ext autoreload\n",
    "    %autoreload 2\n",
    "    %matplotlib inline\n",
    "except:\n",
    "    print 'NOT IPYTHON'\n",
    "\n",
    "import sys\n",
    "import numpy as np\n",
    "import scipy.io as sio\n",
    "\n",
    "sys.path.append('../SPGL1_python_port')\n",
    "import ca_source_extraction as cse\n",
    "#%\n",
    "from matplotlib import pyplot as plt\n",
    "from time import time\n",
    "import pylab as pl\n",
    "from scipy.sparse import coo_matrix\n",
    "import scipy\n",
    "from sklearn.decomposition import NMF\n",
    "import tempfile\n",
    "import os\n",
    "import tifffile\n",
    "import subprocess\n",
    "import time as tm\n",
    "from time import time\n",
    "#% for caching\n",
    "import tempfile\n",
    "import shutil\n",
    "import os\n"
   ]
  },
  {
   "cell_type": "code",
   "execution_count": null,
   "metadata": {
    "collapsed": false
   },
   "outputs": [],
   "source": [
    "#import bokeh.plotting as bp\n",
    "import bokeh.plotting as bpl\n",
    "from bokeh.io import vform,hplot,vplot,gridplot\n",
    "from bokeh.models import CustomJS, ColumnDataSource, Slider\n",
    "from IPython.display import display, clear_output\n",
    "import matplotlib as mpl\n",
    "import matplotlib.cm as cm\n",
    "import numpy as np\n",
    "\n",
    "bpl.output_notebook()"
   ]
  },
  {
   "cell_type": "code",
   "execution_count": null,
   "metadata": {
    "collapsed": false
   },
   "outputs": [],
   "source": [
    "n_processes=4 # roughly number of cores on your machine minus 2\n",
    "\n",
    "p=2 # order of the AR model (in general 1 or two)\n"
   ]
  },
  {
   "cell_type": "code",
   "execution_count": null,
   "metadata": {
    "collapsed": false
   },
   "outputs": [],
   "source": [
    "print \"Restarting server...\"\n",
    "sys.stdout.flush()  \n",
    "\n",
    "proc_1=subprocess.Popen([\"ipcluster stop\"],shell=True)\n",
    "tm.sleep(5)\n",
    "\n",
    "sys.stdout.flush()    \n",
    "proc_2=subprocess.Popen([\"ipcluster start -n \" + str(n_processes)],shell=True) \n",
    "tm.sleep(5)"
   ]
  },
  {
   "cell_type": "code",
   "execution_count": null,
   "metadata": {
    "collapsed": false
   },
   "outputs": [],
   "source": [
    "# LOAD MOVIE AND MAKE DIMENSIONS COMPATIBLE WITH CNMF\n",
    "reload=0\n",
    "filename='movies/demoMovie.tif'\n",
    "t = tifffile.TiffFile(filename) \n",
    "Y = t.asarray().astype(dtype=np.float32) \n",
    "Y = np.transpose(Y,(1,2,0))\n",
    "d1,d2,T=Y.shape\n",
    "Yr=np.reshape(Y,(d1*d2,T),order='F')\n",
    "np.save('Y',Y)\n",
    "np.save('Yr',Yr)\n",
    "Y=np.load('Y.npy',mmap_mode='r')\n",
    "Yr=np.load('Yr.npy',mmap_mode='r')        \n",
    "d1,d2,T=Y.shape\n",
    "Cn = cse.local_correlations(Y)\n",
    "n_pixels_per_process=d1*d2/n_processes # how to subdivide the work among processes"
   ]
  },
  {
   "cell_type": "code",
   "execution_count": null,
   "metadata": {
    "collapsed": true
   },
   "outputs": [],
   "source": [
    "#%% prepare parameters\n",
    "preprocess_params={ 'sn':None, 'g': None, 'noise_range' : [0.25,0.5], 'noise_method':'logmexp',\n",
    "                    'n_processes':n_processes, 'n_pixels_per_process':n_pixels_per_process,   \n",
    "                    'compute_g':False, 'p':p,   \n",
    "                    'lags':5, 'include_noise':False, 'pixels':None}\n",
    "init_params = { \n",
    "                    'K':30,'gSig':[4,4],'gSiz':[9,9], \n",
    "                    'ssub':1,'tsub':1,\n",
    "                    'nIter':5, 'kernel':None,\n",
    "                    'maxIter':5\n",
    "                    }\n",
    "spatial_params = {               \n",
    "                    'd1':d1,  'd2':d2, 'dist':3,   'method' : 'ellipse',               \n",
    "                    'n_processes':n_processes,'n_pixels_per_process':n_pixels_per_process,'backend':'ipyparallel',\n",
    "                    'memory_efficient':False\n",
    "                }\n",
    "temporal_params = {\n",
    "                    'ITER':2, 'method':'spgl1', 'p':p,\n",
    "                    'n_processes':n_processes,'backend':'ipyparallel',\n",
    "                    'memory_efficient':False,                                \n",
    "                    'bas_nonneg':True,  \n",
    "                    'noise_range':[.25,.5], 'noise_method':'logmexp', \n",
    "                    'lags':5, 'fudge_factor':1., \n",
    "                    'verbosity':False\n",
    "                }"
   ]
  },
  {
   "cell_type": "code",
   "execution_count": null,
   "metadata": {
    "collapsed": false
   },
   "outputs": [],
   "source": [
    "t1 = time()\n",
    "Yr,sn,g=cse.preprocess_data(Yr,**preprocess_params)\n",
    "Ain, Cin, b_in, f_in, center=cse.initialize_components(Y, **init_params)                                                    \n",
    "print time() - t1  \n",
    "clear_output(wait=True)\n",
    "print('DONE!')"
   ]
  },
  {
   "cell_type": "code",
   "execution_count": null,
   "metadata": {
    "collapsed": false
   },
   "outputs": [],
   "source": [
    "plt2 = plt.imshow(Cn,interpolation='None')\n",
    "plt.colorbar()\n",
    "plt.scatter(x=center[:,1], y=center[:,0], c='m', s=40)\n",
    "crd = cse.plot_contours(coo_matrix(Ain[:,::-1]),Cn,thr=0.9)\n",
    "plt.axis((-0.5,d2-0.5,-0.5,d1-0.5))\n",
    "plt.gca().invert_yaxis()\n",
    "pl.show()"
   ]
  },
  {
   "cell_type": "code",
   "execution_count": null,
   "metadata": {
    "collapsed": false
   },
   "outputs": [],
   "source": [
    "p=cse.nb_plot_contour(Cn,Ain,d1,d2,thr=0.9,face_color=None, line_color='black',alpha=0.4,line_width=2)\n",
    "bpl.show(p)"
   ]
  },
  {
   "cell_type": "code",
   "execution_count": null,
   "metadata": {
    "collapsed": false
   },
   "outputs": [],
   "source": [
    "#%%\n",
    "t1 = time()\n",
    "A,b,Cin = cse.update_spatial_components_parallel(Yr, Cin, f_in, Ain, sn=sn, **spatial_params)\n",
    "t_elSPATIAL = time() - t1\n",
    "print t_elSPATIAL \n",
    "#clear_output(wait=True)\n",
    "print('DONE!')"
   ]
  },
  {
   "cell_type": "code",
   "execution_count": null,
   "metadata": {
    "collapsed": false
   },
   "outputs": [],
   "source": [
    "plt.figure(num=None, figsize=(9, 7), dpi=100, facecolor='w', edgecolor='k')\n",
    "crd = cse.plot_contours(A,Cn,thr=0.9)"
   ]
  },
  {
   "cell_type": "code",
   "execution_count": null,
   "metadata": {
    "collapsed": false
   },
   "outputs": [],
   "source": [
    "p=cse.nb_plot_contour(Cn,A.todense(),d1,d2,thr=0.9,face_color=None, line_color='black',alpha=0.4,line_width=2)\n",
    "bpl.show(p)"
   ]
  },
  {
   "cell_type": "code",
   "execution_count": null,
   "metadata": {
    "collapsed": false
   },
   "outputs": [],
   "source": [
    "#%% update_temporal_components\n",
    "t1 = time()\n",
    "C,f,S,bl,c1,neurons_sn,g = cse.update_temporal_components_parallel(Yr,A,b,Cin,f_in,bl=None,c1=None,sn=None,g=None,**temporal_params)\n",
    "t_elTEMPORAL2 = time() - t1\n",
    "clear_output(wait=True)\n",
    "print('DONE!')\n",
    "print t_elTEMPORAL2 # took 98 sec  "
   ]
  },
  {
   "cell_type": "code",
   "execution_count": null,
   "metadata": {
    "collapsed": false
   },
   "outputs": [],
   "source": [
    "#%% merge components corresponding to the same neuron\n",
    "t1 = time()\n",
    "A_m,C_m,nr_m,merged_ROIs,S_m,bl_m,c1_m,sn_m,g_m=cse.mergeROIS_parallel(Yr,A,b,C,f,S,sn,temporal_params, spatial_params, bl=bl, c1=c1, sn=neurons_sn, g=g, thr=0.8, mx=50, fast_merge = True)\n",
    "t_elMERGE = time() - t1\n",
    "clear_output(wait=True)\n",
    "print('DONE!')\n",
    "print t_elMERGE  "
   ]
  },
  {
   "cell_type": "code",
   "execution_count": null,
   "metadata": {
    "collapsed": false
   },
   "outputs": [],
   "source": [
    "#%% refine spatial and temporal \n",
    "t1 = time()\n",
    "A2,b2,C2 = cse.update_spatial_components_parallel(Yr, C_m, f, A_m, sn=sn, **spatial_params)\n",
    "#C2,f2,Y_res2,S2,bl2,c12,neurons_sn2,g21 = cse.update_temporal_components_parallel(Yr,A2,b2,C2,f,bl=bl_m,c1=c1_m,sn=sn_m,g=g_m,**temporal_params)\n",
    "C2,f2,S2,bl2,c12,neurons_sn2,g21 = cse.update_temporal_components_parallel(Yr,A2,b2,C2,f,bl=None,c1=None,sn=None,g=None,**temporal_params)\n",
    "print time() - t1 # 100 seconds\n",
    "print('DONE!')\n",
    "print t_elMERGE "
   ]
  },
  {
   "cell_type": "code",
   "execution_count": null,
   "metadata": {
    "collapsed": false
   },
   "outputs": [],
   "source": [
    "plt.figure(num=None, figsize=(9, 7), dpi=100, facecolor='w', edgecolor='k')\n",
    "A_or, C_or, srt = cse.order_components(A2,C2)\n",
    "crd = cse.plot_contours(coo_matrix(A_or[:,::-1]),Cn,thr=0.9)"
   ]
  },
  {
   "cell_type": "code",
   "execution_count": null,
   "metadata": {
    "collapsed": false
   },
   "outputs": [],
   "source": [
    "p=cse.nb_plot_contour(Cn,A_or,d1,d2,thr=0.9,face_color='purple', line_color='black',alpha=0.3,line_width=2)\n",
    "bpl.show(p)"
   ]
  },
  {
   "cell_type": "code",
   "execution_count": null,
   "metadata": {
    "collapsed": false
   },
   "outputs": [],
   "source": [
    "traces_fluo=cse.nb_view_patches(Yr,A_or,C_or,b2,f2,d1,d2,thr = 0.9)"
   ]
  },
  {
   "cell_type": "code",
   "execution_count": null,
   "metadata": {
    "collapsed": false
   },
   "outputs": [],
   "source": [
    "print \"Stopping Cluster....\"\n",
    "sys.stdout.flush()  \n",
    "proc_2=subprocess.Popen([\"ipcluster stop\"],shell=True)\n"
   ]
  },
  {
   "cell_type": "code",
   "execution_count": null,
   "metadata": {
    "collapsed": true
   },
   "outputs": [],
   "source": []
  }
 ],
 "metadata": {
  "kernelspec": {
   "display_name": "Python 2",
   "language": "python",
   "name": "python2"
  },
  "language_info": {
   "codemirror_mode": {
    "name": "ipython",
    "version": 2
   },
   "file_extension": ".py",
   "mimetype": "text/x-python",
   "name": "python",
   "nbconvert_exporter": "python",
   "pygments_lexer": "ipython2",
   "version": "2.7.11"
  }
 },
 "nbformat": 4,
 "nbformat_minor": 0
}
